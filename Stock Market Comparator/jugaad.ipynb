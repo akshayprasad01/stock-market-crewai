{
 "cells": [
  {
   "cell_type": "code",
   "execution_count": 2,
   "metadata": {},
   "outputs": [],
   "source": [
    "import yfinance as yf\n",
    "import matplotlib.pyplot as plt\n",
    "import pandas as pd"
   ]
  },
  {
   "cell_type": "code",
   "execution_count": 5,
   "metadata": {},
   "outputs": [
    {
     "name": "stderr",
     "output_type": "stream",
     "text": [
      "[*********************100%***********************]  1 of 1 completed\n",
      "\n",
      "1 Failed download:\n",
      "['MRF']: YFPricesMissingError('$%ticker%: possibly delisted; no price data found  (period=1y)')\n"
     ]
    }
   ],
   "source": [
    "# Fetch stock data for 1 year\n",
    "symbol = \"MRF\"  # Replace with your stock symbol\n",
    "data = yf.download(symbol, period=\"1y\", interval=\"1d\")"
   ]
  },
  {
   "cell_type": "code",
   "execution_count": 6,
   "metadata": {},
   "outputs": [
    {
     "data": {
      "text/html": [
       "<div>\n",
       "<style scoped>\n",
       "    .dataframe tbody tr th:only-of-type {\n",
       "        vertical-align: middle;\n",
       "    }\n",
       "\n",
       "    .dataframe tbody tr th {\n",
       "        vertical-align: top;\n",
       "    }\n",
       "\n",
       "    .dataframe thead tr th {\n",
       "        text-align: left;\n",
       "    }\n",
       "\n",
       "    .dataframe thead tr:last-of-type th {\n",
       "        text-align: right;\n",
       "    }\n",
       "</style>\n",
       "<table border=\"1\" class=\"dataframe\">\n",
       "  <thead>\n",
       "    <tr>\n",
       "      <th>Price</th>\n",
       "      <th>Adj Close</th>\n",
       "      <th>Close</th>\n",
       "      <th>High</th>\n",
       "      <th>Low</th>\n",
       "      <th>Open</th>\n",
       "      <th>Volume</th>\n",
       "    </tr>\n",
       "    <tr>\n",
       "      <th>Ticker</th>\n",
       "      <th>MRF</th>\n",
       "      <th>MRF</th>\n",
       "      <th>MRF</th>\n",
       "      <th>MRF</th>\n",
       "      <th>MRF</th>\n",
       "      <th>MRF</th>\n",
       "    </tr>\n",
       "    <tr>\n",
       "      <th>Date</th>\n",
       "      <th></th>\n",
       "      <th></th>\n",
       "      <th></th>\n",
       "      <th></th>\n",
       "      <th></th>\n",
       "      <th></th>\n",
       "    </tr>\n",
       "  </thead>\n",
       "  <tbody>\n",
       "  </tbody>\n",
       "</table>\n",
       "</div>"
      ],
      "text/plain": [
       "Empty DataFrame\n",
       "Columns: [(Adj Close, MRF), (Close, MRF), (High, MRF), (Low, MRF), (Open, MRF), (Volume, MRF)]\n",
       "Index: []"
      ]
     },
     "metadata": {},
     "output_type": "display_data"
    }
   ],
   "source": [
    "display(data)"
   ]
  },
  {
   "cell_type": "code",
   "execution_count": 137,
   "metadata": {},
   "outputs": [],
   "source": [
    "data = data.reset_index()"
   ]
  },
  {
   "cell_type": "code",
   "execution_count": 138,
   "metadata": {},
   "outputs": [],
   "source": [
    "data.columns = data.columns.droplevel(1)"
   ]
  },
  {
   "cell_type": "code",
   "execution_count": 139,
   "metadata": {},
   "outputs": [
    {
     "data": {
      "text/plain": [
       "Index(['Date', 'Close', 'High', 'Low', 'Open', 'Volume'], dtype='object', name='Price')"
      ]
     },
     "execution_count": 139,
     "metadata": {},
     "output_type": "execute_result"
    }
   ],
   "source": [
    "data.columns"
   ]
  },
  {
   "cell_type": "code",
   "execution_count": 140,
   "metadata": {},
   "outputs": [
    {
     "data": {
      "text/html": [
       "<div>\n",
       "<style scoped>\n",
       "    .dataframe tbody tr th:only-of-type {\n",
       "        vertical-align: middle;\n",
       "    }\n",
       "\n",
       "    .dataframe tbody tr th {\n",
       "        vertical-align: top;\n",
       "    }\n",
       "\n",
       "    .dataframe thead th {\n",
       "        text-align: right;\n",
       "    }\n",
       "</style>\n",
       "<table border=\"1\" class=\"dataframe\">\n",
       "  <thead>\n",
       "    <tr style=\"text-align: right;\">\n",
       "      <th>Price</th>\n",
       "      <th>Date</th>\n",
       "      <th>Close</th>\n",
       "      <th>High</th>\n",
       "      <th>Low</th>\n",
       "      <th>Open</th>\n",
       "      <th>Volume</th>\n",
       "    </tr>\n",
       "  </thead>\n",
       "  <tbody>\n",
       "    <tr>\n",
       "      <th>0</th>\n",
       "      <td>2024-01-11</td>\n",
       "      <td>184.685211</td>\n",
       "      <td>186.138100</td>\n",
       "      <td>182.724814</td>\n",
       "      <td>185.630577</td>\n",
       "      <td>49128400</td>\n",
       "    </tr>\n",
       "    <tr>\n",
       "      <th>1</th>\n",
       "      <td>2024-01-12</td>\n",
       "      <td>185.013596</td>\n",
       "      <td>185.829605</td>\n",
       "      <td>184.287159</td>\n",
       "      <td>185.152912</td>\n",
       "      <td>40444700</td>\n",
       "    </tr>\n",
       "    <tr>\n",
       "      <th>2</th>\n",
       "      <td>2024-01-16</td>\n",
       "      <td>182.734787</td>\n",
       "      <td>183.361705</td>\n",
       "      <td>180.047938</td>\n",
       "      <td>181.271952</td>\n",
       "      <td>65603000</td>\n",
       "    </tr>\n",
       "    <tr>\n",
       "      <th>3</th>\n",
       "      <td>2024-01-17</td>\n",
       "      <td>181.789413</td>\n",
       "      <td>182.038195</td>\n",
       "      <td>179.421026</td>\n",
       "      <td>180.386299</td>\n",
       "      <td>47317400</td>\n",
       "    </tr>\n",
       "    <tr>\n",
       "      <th>4</th>\n",
       "      <td>2024-01-18</td>\n",
       "      <td>187.710388</td>\n",
       "      <td>188.217896</td>\n",
       "      <td>184.924036</td>\n",
       "      <td>185.182763</td>\n",
       "      <td>78005800</td>\n",
       "    </tr>\n",
       "    <tr>\n",
       "      <th>...</th>\n",
       "      <td>...</td>\n",
       "      <td>...</td>\n",
       "      <td>...</td>\n",
       "      <td>...</td>\n",
       "      <td>...</td>\n",
       "      <td>...</td>\n",
       "    </tr>\n",
       "    <tr>\n",
       "      <th>246</th>\n",
       "      <td>2025-01-03</td>\n",
       "      <td>243.360001</td>\n",
       "      <td>244.179993</td>\n",
       "      <td>241.889999</td>\n",
       "      <td>243.360001</td>\n",
       "      <td>40244100</td>\n",
       "    </tr>\n",
       "    <tr>\n",
       "      <th>247</th>\n",
       "      <td>2025-01-06</td>\n",
       "      <td>245.000000</td>\n",
       "      <td>247.330002</td>\n",
       "      <td>243.199997</td>\n",
       "      <td>244.309998</td>\n",
       "      <td>45045600</td>\n",
       "    </tr>\n",
       "    <tr>\n",
       "      <th>248</th>\n",
       "      <td>2025-01-07</td>\n",
       "      <td>242.210007</td>\n",
       "      <td>245.550003</td>\n",
       "      <td>241.350006</td>\n",
       "      <td>242.979996</td>\n",
       "      <td>40856000</td>\n",
       "    </tr>\n",
       "    <tr>\n",
       "      <th>249</th>\n",
       "      <td>2025-01-08</td>\n",
       "      <td>242.699997</td>\n",
       "      <td>243.710007</td>\n",
       "      <td>240.050003</td>\n",
       "      <td>241.919998</td>\n",
       "      <td>37628900</td>\n",
       "    </tr>\n",
       "    <tr>\n",
       "      <th>250</th>\n",
       "      <td>2025-01-10</td>\n",
       "      <td>236.850006</td>\n",
       "      <td>240.160004</td>\n",
       "      <td>233.000000</td>\n",
       "      <td>240.009995</td>\n",
       "      <td>61679400</td>\n",
       "    </tr>\n",
       "  </tbody>\n",
       "</table>\n",
       "<p>251 rows × 6 columns</p>\n",
       "</div>"
      ],
      "text/plain": [
       "Price       Date       Close        High         Low        Open    Volume\n",
       "0     2024-01-11  184.685211  186.138100  182.724814  185.630577  49128400\n",
       "1     2024-01-12  185.013596  185.829605  184.287159  185.152912  40444700\n",
       "2     2024-01-16  182.734787  183.361705  180.047938  181.271952  65603000\n",
       "3     2024-01-17  181.789413  182.038195  179.421026  180.386299  47317400\n",
       "4     2024-01-18  187.710388  188.217896  184.924036  185.182763  78005800\n",
       "..           ...         ...         ...         ...         ...       ...\n",
       "246   2025-01-03  243.360001  244.179993  241.889999  243.360001  40244100\n",
       "247   2025-01-06  245.000000  247.330002  243.199997  244.309998  45045600\n",
       "248   2025-01-07  242.210007  245.550003  241.350006  242.979996  40856000\n",
       "249   2025-01-08  242.699997  243.710007  240.050003  241.919998  37628900\n",
       "250   2025-01-10  236.850006  240.160004  233.000000  240.009995  61679400\n",
       "\n",
       "[251 rows x 6 columns]"
      ]
     },
     "metadata": {},
     "output_type": "display_data"
    }
   ],
   "source": [
    "display(data)"
   ]
  },
  {
   "cell_type": "code",
   "execution_count": 141,
   "metadata": {},
   "outputs": [],
   "source": [
    "# Moving Averages\n",
    "data['50_MA'] = data['Close'].rolling(window=50).mean()\n",
    "data['100_MA'] = data['Close'].rolling(window=100).mean()\n",
    "data['200_MA'] = data['Close'].rolling(window=200).mean()"
   ]
  },
  {
   "cell_type": "code",
   "execution_count": 142,
   "metadata": {},
   "outputs": [],
   "source": [
    "# RSI Calculation\n",
    "def compute_rsi(data, window=14):\n",
    "    delta = data['Close'].diff(1)\n",
    "    gain = (delta.where(delta > 0, 0)).rolling(window=window).mean()\n",
    "    loss = (-delta.where(delta < 0, 0)).rolling(window=window).mean()\n",
    "    rs = gain / loss\n",
    "    rsi = 100 - (100 / (1 + rs))\n",
    "    return rsi\n",
    "\n",
    "data['RSI'] = compute_rsi(data)"
   ]
  },
  {
   "cell_type": "code",
   "execution_count": 143,
   "metadata": {},
   "outputs": [],
   "source": [
    "# MACD Calculation\n",
    "data['EMA_12'] = data['Close'].ewm(span=12, adjust=False).mean()\n",
    "data['EMA_26'] = data['Close'].ewm(span=26, adjust=False).mean()\n",
    "data['MACD'] = data['EMA_12'] - data['EMA_26']\n",
    "data['Signal_Line'] = data['MACD'].ewm(span=9, adjust=False).mean()"
   ]
  },
  {
   "cell_type": "code",
   "execution_count": 144,
   "metadata": {},
   "outputs": [],
   "source": [
    "# Bollinger Bands\n",
    "data['20_MA'] = data['Close'].rolling(window=20).mean()\n",
    "\n",
    "# Compute rolling standard deviation as a Series\n",
    "rolling_std = data['Close'].rolling(window=20).std(ddof=0)\n"
   ]
  },
  {
   "cell_type": "code",
   "execution_count": 145,
   "metadata": {},
   "outputs": [],
   "source": [
    "data['Upper_Band'] = data['20_MA'] + 2 * rolling_std[1]\n",
    "data['Lower_Band'] = data['20_MA'] - 2 * rolling_std[1]"
   ]
  },
  {
   "cell_type": "code",
   "execution_count": 146,
   "metadata": {},
   "outputs": [
    {
     "data": {
      "text/html": [
       "<div>\n",
       "<style scoped>\n",
       "    .dataframe tbody tr th:only-of-type {\n",
       "        vertical-align: middle;\n",
       "    }\n",
       "\n",
       "    .dataframe tbody tr th {\n",
       "        vertical-align: top;\n",
       "    }\n",
       "\n",
       "    .dataframe thead th {\n",
       "        text-align: right;\n",
       "    }\n",
       "</style>\n",
       "<table border=\"1\" class=\"dataframe\">\n",
       "  <thead>\n",
       "    <tr style=\"text-align: right;\">\n",
       "      <th>Price</th>\n",
       "      <th>Date</th>\n",
       "      <th>Close</th>\n",
       "      <th>High</th>\n",
       "      <th>Low</th>\n",
       "      <th>Open</th>\n",
       "      <th>Volume</th>\n",
       "      <th>50_MA</th>\n",
       "      <th>100_MA</th>\n",
       "      <th>200_MA</th>\n",
       "      <th>RSI</th>\n",
       "      <th>EMA_12</th>\n",
       "      <th>EMA_26</th>\n",
       "      <th>MACD</th>\n",
       "      <th>Signal_Line</th>\n",
       "      <th>20_MA</th>\n",
       "      <th>Upper_Band</th>\n",
       "      <th>Lower_Band</th>\n",
       "    </tr>\n",
       "  </thead>\n",
       "  <tbody>\n",
       "    <tr>\n",
       "      <th>0</th>\n",
       "      <td>2024-01-11</td>\n",
       "      <td>184.685211</td>\n",
       "      <td>186.138100</td>\n",
       "      <td>182.724814</td>\n",
       "      <td>185.630577</td>\n",
       "      <td>49128400</td>\n",
       "      <td>NaN</td>\n",
       "      <td>NaN</td>\n",
       "      <td>NaN</td>\n",
       "      <td>NaN</td>\n",
       "      <td>184.685211</td>\n",
       "      <td>184.685211</td>\n",
       "      <td>0.000000</td>\n",
       "      <td>0.000000</td>\n",
       "      <td>NaN</td>\n",
       "      <td>NaN</td>\n",
       "      <td>NaN</td>\n",
       "    </tr>\n",
       "    <tr>\n",
       "      <th>1</th>\n",
       "      <td>2024-01-12</td>\n",
       "      <td>185.013596</td>\n",
       "      <td>185.829605</td>\n",
       "      <td>184.287159</td>\n",
       "      <td>185.152912</td>\n",
       "      <td>40444700</td>\n",
       "      <td>NaN</td>\n",
       "      <td>NaN</td>\n",
       "      <td>NaN</td>\n",
       "      <td>NaN</td>\n",
       "      <td>184.735732</td>\n",
       "      <td>184.709536</td>\n",
       "      <td>0.026196</td>\n",
       "      <td>0.005239</td>\n",
       "      <td>NaN</td>\n",
       "      <td>NaN</td>\n",
       "      <td>NaN</td>\n",
       "    </tr>\n",
       "    <tr>\n",
       "      <th>2</th>\n",
       "      <td>2024-01-16</td>\n",
       "      <td>182.734787</td>\n",
       "      <td>183.361705</td>\n",
       "      <td>180.047938</td>\n",
       "      <td>181.271952</td>\n",
       "      <td>65603000</td>\n",
       "      <td>NaN</td>\n",
       "      <td>NaN</td>\n",
       "      <td>NaN</td>\n",
       "      <td>NaN</td>\n",
       "      <td>184.427894</td>\n",
       "      <td>184.563258</td>\n",
       "      <td>-0.135364</td>\n",
       "      <td>-0.022881</td>\n",
       "      <td>NaN</td>\n",
       "      <td>NaN</td>\n",
       "      <td>NaN</td>\n",
       "    </tr>\n",
       "    <tr>\n",
       "      <th>3</th>\n",
       "      <td>2024-01-17</td>\n",
       "      <td>181.789413</td>\n",
       "      <td>182.038195</td>\n",
       "      <td>179.421026</td>\n",
       "      <td>180.386299</td>\n",
       "      <td>47317400</td>\n",
       "      <td>NaN</td>\n",
       "      <td>NaN</td>\n",
       "      <td>NaN</td>\n",
       "      <td>NaN</td>\n",
       "      <td>184.021974</td>\n",
       "      <td>184.357788</td>\n",
       "      <td>-0.335814</td>\n",
       "      <td>-0.085468</td>\n",
       "      <td>NaN</td>\n",
       "      <td>NaN</td>\n",
       "      <td>NaN</td>\n",
       "    </tr>\n",
       "    <tr>\n",
       "      <th>4</th>\n",
       "      <td>2024-01-18</td>\n",
       "      <td>187.710388</td>\n",
       "      <td>188.217896</td>\n",
       "      <td>184.924036</td>\n",
       "      <td>185.182763</td>\n",
       "      <td>78005800</td>\n",
       "      <td>NaN</td>\n",
       "      <td>NaN</td>\n",
       "      <td>NaN</td>\n",
       "      <td>NaN</td>\n",
       "      <td>184.589422</td>\n",
       "      <td>184.606129</td>\n",
       "      <td>-0.016707</td>\n",
       "      <td>-0.071716</td>\n",
       "      <td>NaN</td>\n",
       "      <td>NaN</td>\n",
       "      <td>NaN</td>\n",
       "    </tr>\n",
       "    <tr>\n",
       "      <th>...</th>\n",
       "      <td>...</td>\n",
       "      <td>...</td>\n",
       "      <td>...</td>\n",
       "      <td>...</td>\n",
       "      <td>...</td>\n",
       "      <td>...</td>\n",
       "      <td>...</td>\n",
       "      <td>...</td>\n",
       "      <td>...</td>\n",
       "      <td>...</td>\n",
       "      <td>...</td>\n",
       "      <td>...</td>\n",
       "      <td>...</td>\n",
       "      <td>...</td>\n",
       "      <td>...</td>\n",
       "      <td>...</td>\n",
       "      <td>...</td>\n",
       "    </tr>\n",
       "    <tr>\n",
       "      <th>246</th>\n",
       "      <td>2025-01-03</td>\n",
       "      <td>243.360001</td>\n",
       "      <td>244.179993</td>\n",
       "      <td>241.889999</td>\n",
       "      <td>243.360001</td>\n",
       "      <td>40244100</td>\n",
       "      <td>237.840298</td>\n",
       "      <td>231.946298</td>\n",
       "      <td>213.756805</td>\n",
       "      <td>43.879708</td>\n",
       "      <td>249.640667</td>\n",
       "      <td>246.463482</td>\n",
       "      <td>3.177185</td>\n",
       "      <td>4.852283</td>\n",
       "      <td>249.887000</td>\n",
       "      <td>NaN</td>\n",
       "      <td>NaN</td>\n",
       "    </tr>\n",
       "    <tr>\n",
       "      <th>247</th>\n",
       "      <td>2025-01-06</td>\n",
       "      <td>245.000000</td>\n",
       "      <td>247.330002</td>\n",
       "      <td>243.199997</td>\n",
       "      <td>244.309998</td>\n",
       "      <td>45045600</td>\n",
       "      <td>238.130170</td>\n",
       "      <td>232.186029</td>\n",
       "      <td>214.091676</td>\n",
       "      <td>45.992307</td>\n",
       "      <td>248.926718</td>\n",
       "      <td>246.355076</td>\n",
       "      <td>2.571642</td>\n",
       "      <td>4.396155</td>\n",
       "      <td>249.985001</td>\n",
       "      <td>NaN</td>\n",
       "      <td>NaN</td>\n",
       "    </tr>\n",
       "    <tr>\n",
       "      <th>248</th>\n",
       "      <td>2025-01-07</td>\n",
       "      <td>242.210007</td>\n",
       "      <td>245.550003</td>\n",
       "      <td>241.350006</td>\n",
       "      <td>242.979996</td>\n",
       "      <td>40856000</td>\n",
       "      <td>238.368038</td>\n",
       "      <td>232.393366</td>\n",
       "      <td>214.448965</td>\n",
       "      <td>38.659138</td>\n",
       "      <td>247.893378</td>\n",
       "      <td>246.048034</td>\n",
       "      <td>1.845344</td>\n",
       "      <td>3.885993</td>\n",
       "      <td>249.953501</td>\n",
       "      <td>NaN</td>\n",
       "      <td>NaN</td>\n",
       "    </tr>\n",
       "    <tr>\n",
       "      <th>249</th>\n",
       "      <td>2025-01-08</td>\n",
       "      <td>242.699997</td>\n",
       "      <td>243.710007</td>\n",
       "      <td>240.050003</td>\n",
       "      <td>241.919998</td>\n",
       "      <td>37628900</td>\n",
       "      <td>238.598924</td>\n",
       "      <td>232.575636</td>\n",
       "      <td>214.804171</td>\n",
       "      <td>35.424536</td>\n",
       "      <td>247.094396</td>\n",
       "      <td>245.800031</td>\n",
       "      <td>1.294365</td>\n",
       "      <td>3.367667</td>\n",
       "      <td>249.751001</td>\n",
       "      <td>NaN</td>\n",
       "      <td>NaN</td>\n",
       "    </tr>\n",
       "    <tr>\n",
       "      <th>250</th>\n",
       "      <td>2025-01-10</td>\n",
       "      <td>236.850006</td>\n",
       "      <td>240.160004</td>\n",
       "      <td>233.000000</td>\n",
       "      <td>240.009995</td>\n",
       "      <td>61679400</td>\n",
       "      <td>238.673054</td>\n",
       "      <td>232.686120</td>\n",
       "      <td>215.137251</td>\n",
       "      <td>35.026721</td>\n",
       "      <td>245.518336</td>\n",
       "      <td>245.137066</td>\n",
       "      <td>0.381270</td>\n",
       "      <td>2.770388</td>\n",
       "      <td>249.205001</td>\n",
       "      <td>NaN</td>\n",
       "      <td>NaN</td>\n",
       "    </tr>\n",
       "  </tbody>\n",
       "</table>\n",
       "<p>251 rows × 17 columns</p>\n",
       "</div>"
      ],
      "text/plain": [
       "Price       Date       Close        High         Low        Open    Volume  \\\n",
       "0     2024-01-11  184.685211  186.138100  182.724814  185.630577  49128400   \n",
       "1     2024-01-12  185.013596  185.829605  184.287159  185.152912  40444700   \n",
       "2     2024-01-16  182.734787  183.361705  180.047938  181.271952  65603000   \n",
       "3     2024-01-17  181.789413  182.038195  179.421026  180.386299  47317400   \n",
       "4     2024-01-18  187.710388  188.217896  184.924036  185.182763  78005800   \n",
       "..           ...         ...         ...         ...         ...       ...   \n",
       "246   2025-01-03  243.360001  244.179993  241.889999  243.360001  40244100   \n",
       "247   2025-01-06  245.000000  247.330002  243.199997  244.309998  45045600   \n",
       "248   2025-01-07  242.210007  245.550003  241.350006  242.979996  40856000   \n",
       "249   2025-01-08  242.699997  243.710007  240.050003  241.919998  37628900   \n",
       "250   2025-01-10  236.850006  240.160004  233.000000  240.009995  61679400   \n",
       "\n",
       "Price       50_MA      100_MA      200_MA        RSI      EMA_12      EMA_26  \\\n",
       "0             NaN         NaN         NaN        NaN  184.685211  184.685211   \n",
       "1             NaN         NaN         NaN        NaN  184.735732  184.709536   \n",
       "2             NaN         NaN         NaN        NaN  184.427894  184.563258   \n",
       "3             NaN         NaN         NaN        NaN  184.021974  184.357788   \n",
       "4             NaN         NaN         NaN        NaN  184.589422  184.606129   \n",
       "..            ...         ...         ...        ...         ...         ...   \n",
       "246    237.840298  231.946298  213.756805  43.879708  249.640667  246.463482   \n",
       "247    238.130170  232.186029  214.091676  45.992307  248.926718  246.355076   \n",
       "248    238.368038  232.393366  214.448965  38.659138  247.893378  246.048034   \n",
       "249    238.598924  232.575636  214.804171  35.424536  247.094396  245.800031   \n",
       "250    238.673054  232.686120  215.137251  35.026721  245.518336  245.137066   \n",
       "\n",
       "Price      MACD  Signal_Line       20_MA  Upper_Band  Lower_Band  \n",
       "0      0.000000     0.000000         NaN         NaN         NaN  \n",
       "1      0.026196     0.005239         NaN         NaN         NaN  \n",
       "2     -0.135364    -0.022881         NaN         NaN         NaN  \n",
       "3     -0.335814    -0.085468         NaN         NaN         NaN  \n",
       "4     -0.016707    -0.071716         NaN         NaN         NaN  \n",
       "..          ...          ...         ...         ...         ...  \n",
       "246    3.177185     4.852283  249.887000         NaN         NaN  \n",
       "247    2.571642     4.396155  249.985001         NaN         NaN  \n",
       "248    1.845344     3.885993  249.953501         NaN         NaN  \n",
       "249    1.294365     3.367667  249.751001         NaN         NaN  \n",
       "250    0.381270     2.770388  249.205001         NaN         NaN  \n",
       "\n",
       "[251 rows x 17 columns]"
      ]
     },
     "metadata": {},
     "output_type": "display_data"
    }
   ],
   "source": [
    "display(data)"
   ]
  },
  {
   "cell_type": "code",
   "execution_count": 159,
   "metadata": {},
   "outputs": [
    {
     "data": {
      "text/html": [
       "<div>\n",
       "<style scoped>\n",
       "    .dataframe tbody tr th:only-of-type {\n",
       "        vertical-align: middle;\n",
       "    }\n",
       "\n",
       "    .dataframe tbody tr th {\n",
       "        vertical-align: top;\n",
       "    }\n",
       "\n",
       "    .dataframe thead th {\n",
       "        text-align: right;\n",
       "    }\n",
       "</style>\n",
       "<table border=\"1\" class=\"dataframe\">\n",
       "  <thead>\n",
       "    <tr style=\"text-align: right;\">\n",
       "      <th>Price</th>\n",
       "      <th>Date</th>\n",
       "      <th>Close</th>\n",
       "      <th>High</th>\n",
       "      <th>Low</th>\n",
       "      <th>Open</th>\n",
       "      <th>Volume</th>\n",
       "      <th>50_MA</th>\n",
       "      <th>100_MA</th>\n",
       "      <th>200_MA</th>\n",
       "      <th>RSI</th>\n",
       "      <th>EMA_12</th>\n",
       "      <th>EMA_26</th>\n",
       "      <th>MACD</th>\n",
       "      <th>Signal_Line</th>\n",
       "      <th>20_MA</th>\n",
       "      <th>Upper_Band</th>\n",
       "      <th>Lower_Band</th>\n",
       "      <th>Volume_MA</th>\n",
       "      <th>Band_Width</th>\n",
       "    </tr>\n",
       "  </thead>\n",
       "  <tbody>\n",
       "    <tr>\n",
       "      <th>246</th>\n",
       "      <td>2025-01-03</td>\n",
       "      <td>243.360001</td>\n",
       "      <td>244.179993</td>\n",
       "      <td>241.889999</td>\n",
       "      <td>243.360001</td>\n",
       "      <td>40244100</td>\n",
       "      <td>237.840298</td>\n",
       "      <td>231.946298</td>\n",
       "      <td>213.756805</td>\n",
       "      <td>43.879708</td>\n",
       "      <td>249.640667</td>\n",
       "      <td>246.463482</td>\n",
       "      <td>3.177185</td>\n",
       "      <td>4.852283</td>\n",
       "      <td>249.887000</td>\n",
       "      <td>NaN</td>\n",
       "      <td>NaN</td>\n",
       "      <td>47125945.0</td>\n",
       "      <td>NaN</td>\n",
       "    </tr>\n",
       "    <tr>\n",
       "      <th>247</th>\n",
       "      <td>2025-01-06</td>\n",
       "      <td>245.000000</td>\n",
       "      <td>247.330002</td>\n",
       "      <td>243.199997</td>\n",
       "      <td>244.309998</td>\n",
       "      <td>45045600</td>\n",
       "      <td>238.130170</td>\n",
       "      <td>232.186029</td>\n",
       "      <td>214.091676</td>\n",
       "      <td>45.992307</td>\n",
       "      <td>248.926718</td>\n",
       "      <td>246.355076</td>\n",
       "      <td>2.571642</td>\n",
       "      <td>4.396155</td>\n",
       "      <td>249.985001</td>\n",
       "      <td>NaN</td>\n",
       "      <td>NaN</td>\n",
       "      <td>47376530.0</td>\n",
       "      <td>NaN</td>\n",
       "    </tr>\n",
       "    <tr>\n",
       "      <th>248</th>\n",
       "      <td>2025-01-07</td>\n",
       "      <td>242.210007</td>\n",
       "      <td>245.550003</td>\n",
       "      <td>241.350006</td>\n",
       "      <td>242.979996</td>\n",
       "      <td>40856000</td>\n",
       "      <td>238.368038</td>\n",
       "      <td>232.393366</td>\n",
       "      <td>214.448965</td>\n",
       "      <td>38.659138</td>\n",
       "      <td>247.893378</td>\n",
       "      <td>246.048034</td>\n",
       "      <td>1.845344</td>\n",
       "      <td>3.885993</td>\n",
       "      <td>249.953501</td>\n",
       "      <td>NaN</td>\n",
       "      <td>NaN</td>\n",
       "      <td>47575800.0</td>\n",
       "      <td>NaN</td>\n",
       "    </tr>\n",
       "    <tr>\n",
       "      <th>249</th>\n",
       "      <td>2025-01-08</td>\n",
       "      <td>242.699997</td>\n",
       "      <td>243.710007</td>\n",
       "      <td>240.050003</td>\n",
       "      <td>241.919998</td>\n",
       "      <td>37628900</td>\n",
       "      <td>238.598924</td>\n",
       "      <td>232.575636</td>\n",
       "      <td>214.804171</td>\n",
       "      <td>35.424536</td>\n",
       "      <td>247.094396</td>\n",
       "      <td>245.800031</td>\n",
       "      <td>1.294365</td>\n",
       "      <td>3.367667</td>\n",
       "      <td>249.751001</td>\n",
       "      <td>NaN</td>\n",
       "      <td>NaN</td>\n",
       "      <td>47224785.0</td>\n",
       "      <td>NaN</td>\n",
       "    </tr>\n",
       "    <tr>\n",
       "      <th>250</th>\n",
       "      <td>2025-01-10</td>\n",
       "      <td>236.850006</td>\n",
       "      <td>240.160004</td>\n",
       "      <td>233.000000</td>\n",
       "      <td>240.009995</td>\n",
       "      <td>61679400</td>\n",
       "      <td>238.673054</td>\n",
       "      <td>232.686120</td>\n",
       "      <td>215.137251</td>\n",
       "      <td>35.026721</td>\n",
       "      <td>245.518336</td>\n",
       "      <td>245.137066</td>\n",
       "      <td>0.381270</td>\n",
       "      <td>2.770388</td>\n",
       "      <td>249.205001</td>\n",
       "      <td>NaN</td>\n",
       "      <td>NaN</td>\n",
       "      <td>48463015.0</td>\n",
       "      <td>NaN</td>\n",
       "    </tr>\n",
       "  </tbody>\n",
       "</table>\n",
       "</div>"
      ],
      "text/plain": [
       "Price       Date       Close        High         Low        Open    Volume  \\\n",
       "246   2025-01-03  243.360001  244.179993  241.889999  243.360001  40244100   \n",
       "247   2025-01-06  245.000000  247.330002  243.199997  244.309998  45045600   \n",
       "248   2025-01-07  242.210007  245.550003  241.350006  242.979996  40856000   \n",
       "249   2025-01-08  242.699997  243.710007  240.050003  241.919998  37628900   \n",
       "250   2025-01-10  236.850006  240.160004  233.000000  240.009995  61679400   \n",
       "\n",
       "Price       50_MA      100_MA      200_MA        RSI      EMA_12      EMA_26  \\\n",
       "246    237.840298  231.946298  213.756805  43.879708  249.640667  246.463482   \n",
       "247    238.130170  232.186029  214.091676  45.992307  248.926718  246.355076   \n",
       "248    238.368038  232.393366  214.448965  38.659138  247.893378  246.048034   \n",
       "249    238.598924  232.575636  214.804171  35.424536  247.094396  245.800031   \n",
       "250    238.673054  232.686120  215.137251  35.026721  245.518336  245.137066   \n",
       "\n",
       "Price      MACD  Signal_Line       20_MA  Upper_Band  Lower_Band   Volume_MA  \\\n",
       "246    3.177185     4.852283  249.887000         NaN         NaN  47125945.0   \n",
       "247    2.571642     4.396155  249.985001         NaN         NaN  47376530.0   \n",
       "248    1.845344     3.885993  249.953501         NaN         NaN  47575800.0   \n",
       "249    1.294365     3.367667  249.751001         NaN         NaN  47224785.0   \n",
       "250    0.381270     2.770388  249.205001         NaN         NaN  48463015.0   \n",
       "\n",
       "Price  Band_Width  \n",
       "246           NaN  \n",
       "247           NaN  \n",
       "248           NaN  \n",
       "249           NaN  \n",
       "250           NaN  "
      ]
     },
     "metadata": {},
     "output_type": "display_data"
    }
   ],
   "source": [
    "display(data.tail())"
   ]
  },
  {
   "cell_type": "code",
   "execution_count": 147,
   "metadata": {},
   "outputs": [],
   "source": [
    "# Volume Analysis\n",
    "data['Volume_MA'] = data['Volume'].rolling(window=20).mean()\n",
    "\n",
    "# Breakout Detection (Bollinger Band Squeeze)\n",
    "data['Band_Width'] = (data['Upper_Band'] - data['Lower_Band']) / data['20_MA']\n",
    "squeeze = data['Band_Width'] < data['Band_Width'].quantile(0.1)  # 10% narrowest bands"
   ]
  },
  {
   "cell_type": "code",
   "execution_count": 148,
   "metadata": {},
   "outputs": [
    {
     "data": {
      "text/plain": [
       "<Figure size 1200x1800 with 0 Axes>"
      ]
     },
     "execution_count": 148,
     "metadata": {},
     "output_type": "execute_result"
    },
    {
     "data": {
      "text/plain": [
       "<Figure size 1200x1800 with 0 Axes>"
      ]
     },
     "metadata": {},
     "output_type": "display_data"
    }
   ],
   "source": [
    "# Plotting\n",
    "plt.figure(figsize=(12, 18))"
   ]
  },
  {
   "cell_type": "code",
   "execution_count": 149,
   "metadata": {},
   "outputs": [
    {
     "data": {
      "text/plain": [
       "<matplotlib.legend.Legend at 0x17674d910>"
      ]
     },
     "execution_count": 149,
     "metadata": {},
     "output_type": "execute_result"
    },
    {
     "data": {
      "image/png": "[encoded data removed]",
      "text/plain": [
       "<Figure size 640x480 with 1 Axes>"
      ]
     },
     "metadata": {},
     "output_type": "display_data"
    }
   ],
   "source": [
    "# Plot Closing Price and Moving Averages\n",
    "plt.subplot(5, 1, 1)\n",
    "plt.plot(data['Close'], label='Close Price', color='blue')\n",
    "plt.plot(data['50_MA'], label='50-Day MA', color='green')\n",
    "plt.plot(data['100_MA'], label='100-Day MA', color='orange')\n",
    "plt.plot(data['200_MA'], label='200-Day MA', color='red')\n",
    "plt.title(f\"{symbol} Price & Moving Averages\")\n",
    "plt.legend()"
   ]
  },
  {
   "cell_type": "code",
   "execution_count": 150,
   "metadata": {},
   "outputs": [
    {
     "data": {
      "text/plain": [
       "<matplotlib.legend.Legend at 0x176811f50>"
      ]
     },
     "execution_count": 150,
     "metadata": {},
     "output_type": "execute_result"
    },
    {
     "data": {
      "image/png": "[encoded data removed]",
      "text/plain": [
       "<Figure size 640x480 with 1 Axes>"
      ]
     },
     "metadata": {},
     "output_type": "display_data"
    }
   ],
   "source": [
    "# Plot RSI\n",
    "plt.subplot(5, 1, 2)\n",
    "plt.plot(data['RSI'], label='RSI', color='purple')\n",
    "plt.axhline(70, color='red', linestyle='--', label='Overbought (70)')\n",
    "plt.axhline(30, color='green', linestyle='--', label='Oversold (30)')\n",
    "plt.title(\"Relative Strength Index (RSI)\")\n",
    "plt.legend()"
   ]
  },
  {
   "cell_type": "code",
   "execution_count": 151,
   "metadata": {},
   "outputs": [
    {
     "data": {
      "text/plain": [
       "<matplotlib.legend.Legend at 0x1768bb790>"
      ]
     },
     "execution_count": 151,
     "metadata": {},
     "output_type": "execute_result"
    },
    {
     "data": {
      "image/png": "[encoded data removed]",
      "text/plain": [
       "<Figure size 640x480 with 1 Axes>"
      ]
     },
     "metadata": {},
     "output_type": "display_data"
    }
   ],
   "source": [
    "# Plot MACD\n",
    "plt.subplot(5, 1, 3)\n",
    "plt.plot(data['MACD'], label='MACD', color='blue')\n",
    "plt.plot(data['Signal_Line'], label='Signal Line', color='orange')\n",
    "plt.bar(data.index, data['MACD'] - data['Signal_Line'], color='gray', alpha=0.5, label='Histogram')\n",
    "plt.title(\"MACD\")\n",
    "plt.legend()"
   ]
  },
  {
   "cell_type": "code",
   "execution_count": 152,
   "metadata": {},
   "outputs": [
    {
     "data": {
      "text/plain": [
       "<matplotlib.legend.Legend at 0x177305450>"
      ]
     },
     "execution_count": 152,
     "metadata": {},
     "output_type": "execute_result"
    },
    {
     "data": {
      "image/png": "[encoded data removed]",
      "text/plain": [
       "<Figure size 640x480 with 1 Axes>"
      ]
     },
     "metadata": {},
     "output_type": "display_data"
    }
   ],
   "source": [
    "# Plot Bollinger Bands\n",
    "plt.subplot(5, 1, 4)\n",
    "plt.plot(data['Close'], label='Close Price', color='blue')\n",
    "plt.plot(data['Upper_Band'], label='Upper Band', color='green', linestyle='--')\n",
    "plt.plot(data['Lower_Band'], label='Lower Band', color='red', linestyle='--')\n",
    "plt.title(\"Bollinger Bands\")\n",
    "plt.legend()"
   ]
  },
  {
   "cell_type": "code",
   "execution_count": 153,
   "metadata": {},
   "outputs": [
    {
     "data": {
      "text/plain": [
       "<matplotlib.legend.Legend at 0x176a9b790>"
      ]
     },
     "execution_count": 153,
     "metadata": {},
     "output_type": "execute_result"
    },
    {
     "data": {
      "image/png": "[encoded data removed]",
      "text/plain": [
       "<Figure size 640x480 with 1 Axes>"
      ]
     },
     "metadata": {},
     "output_type": "display_data"
    }
   ],
   "source": [
    "# Plot Volume\n",
    "plt.subplot(5, 1, 5)\n",
    "plt.bar(data.index, data['Volume'], label='Volume', color='gray', alpha=0.5)\n",
    "plt.plot(data['Volume_MA'], label='20-Day Volume MA', color='orange')\n",
    "plt.title(\"Volume Analysis\")\n",
    "plt.legend()"
   ]
  },
  {
   "cell_type": "code",
   "execution_count": 154,
   "metadata": {},
   "outputs": [
    {
     "data": {
      "text/plain": [
       "<Figure size 640x480 with 0 Axes>"
      ]
     },
     "metadata": {},
     "output_type": "display_data"
    }
   ],
   "source": [
    "plt.tight_layout()\n",
    "plt.show()"
   ]
  },
  {
   "cell_type": "code",
   "execution_count": 155,
   "metadata": {},
   "outputs": [],
   "source": [
    "# Trend Analysis\n",
    "bullish = False\n",
    "if (data['50_MA'].iloc[-1] > data['100_MA'].iloc[-1] > data['200_MA'].iloc[-1]) and \\\n",
    "   (data['Close'].iloc[-1] > data['50_MA'].iloc[-1]) and \\\n",
    "   (data['RSI'].iloc[-1] < 70) and (data['RSI'].iloc[-1] > 50) and \\\n",
    "   (data['MACD'].iloc[-1] > data['Signal_Line'].iloc[-1]) and \\\n",
    "   (data['Close'].iloc[-1] > data['20_MA'].iloc[-1]):\n",
    "    bullish = True\n",
    "\n",
    "# Breakout Detection\n",
    "breakout = False\n",
    "if squeeze.iloc[-1] and data['Close'].iloc[-1] > data['Upper_Band'].iloc[-1] and \\\n",
    "   data['Volume'].iloc[-1] > 1.5 * data['Volume_MA'].iloc[-1]:\n",
    "    breakout = True"
   ]
  },
  {
   "cell_type": "code",
   "execution_count": 156,
   "metadata": {},
   "outputs": [
    {
     "name": "stdout",
     "output_type": "stream",
     "text": [
      "Bullish Trend: NO\n",
      "Breakout Detected: NO\n"
     ]
    }
   ],
   "source": [
    "# Print Analysis\n",
    "print(\"Bullish Trend:\", \"YES\" if bullish else \"NO\")\n",
    "print(\"Breakout Detected:\", \"YES\" if breakout else \"NO\")"
   ]
  },
  {
   "cell_type": "code",
   "execution_count": null,
   "metadata": {},
   "outputs": [],
   "source": []
  }
 ],
 "metadata": {
  "kernelspec": {
   "display_name": "env",
   "language": "python",
   "name": "python3"
  },
  "language_info": {
   "codemirror_mode": {
    "name": "ipython",
    "version": 3
   },
   "file_extension": ".py",
   "mimetype": "text/x-python",
   "name": "python",
   "nbconvert_exporter": "python",
   "pygments_lexer": "ipython3",
   "version": "3.11.0"
  }
 },
 "nbformat": 4,
 "nbformat_minor": 2
}
