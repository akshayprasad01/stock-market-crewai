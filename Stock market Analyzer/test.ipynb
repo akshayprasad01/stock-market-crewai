{
 "cells": [
  {
   "cell_type": "code",
   "execution_count": 5,
   "metadata": {},
   "outputs": [],
   "source": [
    "from dotenv import load_dotenv\n",
    "load_dotenv()\n",
    "from crewai_tools import JSONSearchTool  # Updated import path\n",
    "import os\n",
    "\n",
    "# General JSON content search\n",
    "# This approach is suitable when the JSON path is either known beforehand or can be dynamically identified.\n",
    "# tool = JSONSearchTool()\n",
    "\n",
    "# Restricting search to a specific JSON file\n",
    "# Use this initialization method when you want to limit the search scope to a specific JSON file.\n",
    "# tool = JSONSearchTool(json_path='./path/to/your/file.json')"
   ]
  },
  {
   "cell_type": "code",
   "execution_count": 7,
   "metadata": {},
   "outputs": [
    {
     "name": "stderr",
     "output_type": "stream",
     "text": [
      "/Users/akshay/Desktop/MARC/Stock market Analyzer/env/lib/python3.11/site-packages/tqdm/auto.py:21: TqdmWarning: IProgress not found. Please update jupyter and ipywidgets. See https://ipywidgets.readthedocs.io/en/stable/user_install.html\n",
      "  from .autonotebook import tqdm as notebook_tqdm\n",
      "Inserting batches in chromadb: 100%|██████████| 1/1 [00:40<00:00, 40.39s/it]\n"
     ]
    }
   ],
   "source": [
    "tool = JSONSearchTool(\n",
    "    json_path=\"test.json\",\n",
    "    config={\n",
    "        \"llm\": {\n",
    "            \"provider\": \"google\",  # Other options include google, openai, anthropic, llama2, etc.\n",
    "            \"config\": {\n",
    "                \"model\": \"gemini-2.0-flash-exp\",\n",
    "                \"api_key\": os.getenv(\"GOOGLE_API_KEY\")\n",
    "                # Additional optional configurations can be specified here.\n",
    "                # temperature=0.5,\n",
    "                # top_p=1,\n",
    "                # stream=true,\n",
    "            },\n",
    "        },\n",
    "        \"embedder\": {\n",
    "            \"provider\": \"google\", # or openai, ollama, ...\n",
    "            \"config\": {\n",
    "                \"model\": \"models/embedding-001\",\n",
    "                \"task_type\": \"retrieval_document\",\n",
    "                # Further customization options can be added here.\n",
    "            },\n",
    "        },\n",
    "    }\n",
    ")"
   ]
  },
  {
   "cell_type": "code",
   "execution_count": null,
   "metadata": {},
   "outputs": [],
   "source": []
  }
 ],
 "metadata": {
  "kernelspec": {
   "display_name": "env",
   "language": "python",
   "name": "python3"
  },
  "language_info": {
   "codemirror_mode": {
    "name": "ipython",
    "version": 3
   },
   "file_extension": ".py",
   "mimetype": "text/x-python",
   "name": "python",
   "nbconvert_exporter": "python",
   "pygments_lexer": "ipython3",
   "version": "3.11.0"
  }
 },
 "nbformat": 4,
 "nbformat_minor": 2
}
